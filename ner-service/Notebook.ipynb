{
 "cells": [
  {
   "cell_type": "markdown",
   "metadata": {
    "Collapsed": "false"
   },
   "source": [
    "# Ner"
   ]
  },
  {
   "cell_type": "markdown",
   "metadata": {
    "Collapsed": "false"
   },
   "source": [
    "#### Imports"
   ]
  },
  {
   "cell_type": "code",
   "execution_count": 1,
   "metadata": {
    "Collapsed": "false",
    "ExecuteTime": {
     "end_time": "2019-09-14T12:00:01.364248Z",
     "start_time": "2019-09-14T12:00:01.301685Z"
    }
   },
   "outputs": [],
   "source": [
    "from functional import seq, pseq\n",
    "from functional.streams import Sequence\n",
    "from IPython.core.display import HTML\n",
    "\n",
    "def display_seq(sequence:Sequence,rows:int)-> None:\n",
    "        sequence._repr_html_= lambda :sequence.tabulate(rows,tablefmt='html')\n",
    "        display(sequence)\n",
    "        sequence._repr_html_= lambda :sequence.tabulate(10,tablefmt='html')"
   ]
  },
  {
   "cell_type": "code",
   "execution_count": 2,
   "metadata": {
    "Collapsed": "false",
    "ExecuteTime": {
     "end_time": "2019-09-14T18:24:28.657176Z",
     "start_time": "2019-09-14T18:16:47.532165Z"
    }
   },
   "outputs": [],
   "source": [
    "#! python -m spacy download en_core_web_lg --user\n",
    "#! python -m spacy download en_core_web_sm --user"
   ]
  },
  {
   "cell_type": "code",
   "execution_count": 3,
   "metadata": {
    "Collapsed": "false"
   },
   "outputs": [
    {
     "name": "stdout",
     "output_type": "stream",
     "text": [
      "asap\n",
      "{'ASAP'}\n",
      "important\n",
      "{'crucial', 'significant', 'of_import', 'important', 'authoritative'}\n",
      "quick\n",
      "{'agile', 'straightaway', 'promptly', 'spry', 'fast', 'nimble', 'immediate', 'prompt', 'quick', 'ready', 'speedy', 'quickly', 'flying', 'warm'}\n"
     ]
    }
   ],
   "source": [
    "# Then, we're going to use the term \"program\" to find synsets like so: \n",
    "from nltk import wordnet\n",
    "def get_sysn(word):\n",
    "    syns = wordnet.wordnet.synsets(word) \n",
    "    return seq(syns).flat_map(lambda x: x.lemmas()).map(lambda x: x.name()).to_set()\n",
    "\n",
    "for wo in [\"asap\", \"important\", \"quick\"]:\n",
    "    print(wo)\n",
    "    print(get_sysn(wo))"
   ]
  },
  {
   "cell_type": "code",
   "execution_count": 4,
   "metadata": {
    "Collapsed": "false"
   },
   "outputs": [],
   "source": [
    "from itertools import chain\n",
    "from spacy.lang.en import English\n",
    "from typing import List, Optional\n",
    "from functional import seq\n",
    "from dateparser import parse as parse_date\n",
    "# import nltk,spacy\n",
    "import en_core_web_lg\n",
    "import re\n",
    "from spacy.tokens.doc import Doc\n",
    "nlp = en_core_web_lg.load()\n",
    "\n",
    "sen_nlp = English()\n",
    "sen_nlp.max_length = 6 * 1000 * 1000 * 1000\n",
    "sentencizer = sen_nlp.create_pipe(\"sentencizer\")\n",
    "sen_nlp.add_pipe(sentencizer)"
   ]
  },
  {
   "cell_type": "code",
   "execution_count": 5,
   "metadata": {
    "Collapsed": "false"
   },
   "outputs": [],
   "source": [
    "application_parts = [\"user\", \"admin\", \"mobile\"]\n",
    "\n",
    "app_suffixes = [\"panel\", \"application\", \"website\", \"page\", \"board\", \"site\"]"
   ]
  },
  {
   "cell_type": "code",
   "execution_count": 6,
   "metadata": {
    "Collapsed": "false"
   },
   "outputs": [],
   "source": [
    "\n",
    "samples = {\n",
    "   \"\"\"On yesterday at 5 pm i couldn't complete the transaction.  It was on user website. I expected transaction to look as always, but i saw message \"something went wrong\".  This issue is very important to us.\"\"\"  :\n",
    "    {\n",
    "        \"time\" : \"10 jan at 17:00\",\n",
    "        \"exptected\": \"then transaction to look as always\",\n",
    "        \"part of app\": \"user website\",\n",
    "        \"actual\": \"\"\"saw message \"something went wrontg\" \"\"\",\n",
    "        \"importance\" : \"high\"\n",
    "    },\n",
    "   \"\"\"I write to report an issue. Trading Panel stopped working Today at 14:00. User \"kazik\" was affected. The page wouldnt load, i was a little upset. Please fix it when you can. \"\"\":\n",
    "    {\n",
    "        \"time\" : \"11 jan at 14:00\",\n",
    "        \"exptected\": \"\",\n",
    "        \"actual\": \"\"\"the page wouldn't load\"\"\",\n",
    "        \"importance\" : \"low\"\n",
    "    },\n",
    "    \"\"\"\n",
    "   Hello!\n",
    "Yesterday I had some problems on the admin panel. I tried to create a new user.\n",
    "The app should create the user an return a success message but nothing happened. The \"create\" button was completely unresponsive.\n",
    "Can you fix it ASAP? It's very important. Thank you in advance. \n",
    "    \"\"\": {\n",
    "        \"time\" : \"10 jan at 14:00\",\n",
    "        \"exptected\": \"create the user and return success message\",\n",
    "        \"actual\": \"\"\"nothing happened\"\"\",\n",
    "        \"importance\" : \"high\"\n",
    "    } ,\n",
    "    \"\"\"\n",
    "    3 days ago I was looking at user page. I expected it to work as always and then it was covered in red errors.\n",
    "    \"\"\" :\n",
    "    {\"time\": \"9 jan\"}\n",
    "    \n",
    "}"
   ]
  },
  {
   "cell_type": "code",
   "execution_count": 7,
   "metadata": {
    "Collapsed": "false"
   },
   "outputs": [],
   "source": [
    "\n",
    "splitters = [\n",
    "    \"but\",\n",
    "    \", then\",\n",
    "    \"and then\",\n",
    "] + [\"but {} \".format(suf) for suf in [\"I\", \"she\", \"he\", \"it\", \"we\", \"they\"]]\n",
    "\n",
    "split_reg = re.compile(\"({})\".format(\"|\".join(splitters)))\n",
    "def sent_tokenize(data: str):\n",
    "    # TODO - include but (I|it|he|she)\n",
    "    return seq(sen_nlp(data).sents)\\\n",
    "        .flat_map(lambda sen: split_reg.split(sen.__repr__()))\\\n",
    "        .filter(lambda tok: tok not in splitters)\\\n",
    "        .map(nlp)\\\n",
    "        .to_list()\n",
    "\n",
    "\n",
    "\n",
    "\n",
    "prec_pron = \"-pron-\"\n",
    "prec_suf = [\n",
    "    \"be in\",\n",
    "    \"enter\",\n",
    "    \"be look\"]\n",
    "prec_phrases = [prec_pron + \" \" + suf for suf in prec_suf]\n",
    "\n",
    "\n",
    "def extract_precondition(nlp_sents: List[Doc]) -> List[str]:\n",
    "    res = []\n",
    "    for doc in nlp_sents:\n",
    "        lemmatized = \" \".join(seq(doc).map(lambda x: x.lemma_).to_list()).lower()\n",
    "        if seq(prec_phrases).exists(lambda phrase: phrase in lemmatized):\n",
    "            res.append(doc.__repr__())\n",
    "    return list(set(res))\n",
    "\n",
    "\n",
    "def extract_priority(nlp_sents: List[Doc]) -> List[str]:\n",
    "    \n",
    "    #urg = get_urgency([s.__repr__() for s in nlp_sents])\n",
    "    return [] \n",
    "\n",
    "\n",
    "app_areas = [\"user\", \"admin\", \"mobile\"]\n",
    "app_suffixes = [\"panel\", \"application\", \"website\", \"page\", \"board\", \"site\"]\n",
    "app_area_phrases = seq(app_areas).flat_map(lambda area: seq(app_suffixes).map(lambda suffix: \"{} {}\".format(area, suffix))).to_list()\n",
    "\n",
    "\n",
    "def extract_part_of_app(nlp_sents: List[Doc]) -> List[str]:\n",
    "    res = []\n",
    "    for doc in nlp_sents:\n",
    "        lemmatized = \" \".join(seq(doc).map(lambda x: x.lemma_).to_list()).lower()\n",
    "        p = seq(app_area_phrases).filter(lambda phrase: phrase in lemmatized).to_list()\n",
    "        res = res + p\n",
    "    return list(set(res))\n",
    "\n",
    "\n",
    "def extract_expected(nlp_sents: List[Doc]) -> List[str]:\n",
    "    res = []\n",
    "    words = [\"expect\", \"suppose\", \"supposed\", \"thought\", \"should\", \"ought\"]\n",
    "    for doc in nlp_sents:\n",
    "        if seq(doc).exists(lambda tok: tok.lemma_ in words):\n",
    "            res.append(doc.__repr__())\n",
    "    return res\n",
    "\n",
    "\n",
    "def extract_date(nlp_sents: Doc) -> List[str]:\n",
    "    dates = []\n",
    "    times = []\n",
    "\n",
    "    for doc in nlp_sents:\n",
    "\n",
    "        for tok in doc.ents:\n",
    "            if (tok.label_ == 'DATE'):\n",
    "                dates.append(tok.__repr__())\n",
    "            elif (tok.label_ == 'TIME'):\n",
    "                times.append(tok.__repr__())\n",
    "\n",
    "    dates_set = seq(dates).map(date_to_canonical_or_stay).to_set()\n",
    "\n",
    "    if len(dates_set) == 1 and len(times) > 0:\n",
    "        return [datetime_to_canon_or_stay(dates[0] + \" \" + times[0])]\n",
    "    else:\n",
    "        return list(dates_set)\n",
    "\n",
    "\n",
    "did_not_regex = re.compile(\"do not (work|run|complete)\")\n",
    "\n",
    "\n",
    "def extract_actual(nlp_sents: Doc):\n",
    "    res = []\n",
    "    words = [\"fail\", \"error\", \"break\", \"wrong\"]\n",
    "    for doc in nlp_sents:\n",
    "        lemmatized = \" \".join(seq(doc).map(lambda x: x.lemma_).to_list())\n",
    "\n",
    "        if did_not_regex.match(lemmatized) is not None or seq(words).exists(lambda w: w in lemmatized) or \"stop work\" in lemmatized:\n",
    "            res.append(doc.__repr__())\n",
    "    return res\n",
    "\n",
    "\n",
    "def date_to_canonical(date: str) -> Optional[str]:\n",
    "    dt = parse_date(date)\n",
    "    if dt is not None:\n",
    "        return dt.date().isoformat()\n",
    "\n",
    "\n",
    "def date_to_canonical_or_stay(date: str) -> str:\n",
    "    canon = date_to_canonical(date)\n",
    "    return date if canon is None else canon\n",
    "\n",
    "\n",
    "def datetime_to_canon_or_stay(date: str) -> str:\n",
    "    dt = parse_date(date)\n",
    "    if dt is not None:\n",
    "        return dt.isoformat()\n",
    "    else:\n",
    "        return date\n"
   ]
  },
  {
   "cell_type": "code",
   "execution_count": null,
   "metadata": {
    "Collapsed": "false"
   },
   "outputs": [],
   "source": []
  },
  {
   "cell_type": "code",
   "execution_count": 8,
   "metadata": {
    "Collapsed": "false",
    "ExecuteTime": {
     "end_time": "2019-09-14T18:27:31.022252Z",
     "start_time": "2019-09-14T18:27:31.018843Z"
    }
   },
   "outputs": [
    {
     "data": {
      "text/html": [
       "<h4>next</h4>"
      ],
      "text/plain": [
       "<IPython.core.display.HTML object>"
      ]
     },
     "metadata": {},
     "output_type": "display_data"
    },
    {
     "data": {
      "text/html": [
       "<p>On yesterday at 5 pm i couldn't complete the transaction.  It was on user website. I expected transaction to look as always, but i saw message \"something went wrong\".  This issue is very important to us.</p>"
      ],
      "text/plain": [
       "<IPython.core.display.HTML object>"
      ]
     },
     "metadata": {},
     "output_type": "display_data"
    },
    {
     "data": {
      "text/html": [
       "<h5>Predicted</h5>"
      ],
      "text/plain": [
       "<IPython.core.display.HTML object>"
      ]
     },
     "metadata": {},
     "output_type": "display_data"
    },
    {
     "name": "stdout",
     "output_type": "stream",
     "text": [
      "{'actual': [' i saw message \"something went wrong\".'],\n",
      " 'date': ['2020-01-11T17:00:00'],\n",
      " 'expected': ['I expected transaction to look as always, '],\n",
      " 'part of app': ['user website'],\n",
      " 'precondition': [],\n",
      " 'priority': []}\n"
     ]
    },
    {
     "data": {
      "text/html": [
       "<h5>Declared</h5>"
      ],
      "text/plain": [
       "<IPython.core.display.HTML object>"
      ]
     },
     "metadata": {},
     "output_type": "display_data"
    },
    {
     "name": "stdout",
     "output_type": "stream",
     "text": [
      "{'actual': 'saw message \"something went wrontg\" ',\n",
      " 'exptected': 'then transaction to look as always',\n",
      " 'importance': 'high',\n",
      " 'part of app': 'user website',\n",
      " 'time': '10 jan at 17:00'}\n"
     ]
    },
    {
     "data": {
      "text/html": [
       "<h4>next</h4>"
      ],
      "text/plain": [
       "<IPython.core.display.HTML object>"
      ]
     },
     "metadata": {},
     "output_type": "display_data"
    },
    {
     "data": {
      "text/html": [
       "<p>I write to report an issue. Trading Panel stopped working Today at 14:00. User \"kazik\" was affected. The page wouldnt load, i was a little upset. Please fix it when you can. </p>"
      ],
      "text/plain": [
       "<IPython.core.display.HTML object>"
      ]
     },
     "metadata": {},
     "output_type": "display_data"
    },
    {
     "data": {
      "text/html": [
       "<h5>Predicted</h5>"
      ],
      "text/plain": [
       "<IPython.core.display.HTML object>"
      ]
     },
     "metadata": {},
     "output_type": "display_data"
    },
    {
     "name": "stdout",
     "output_type": "stream",
     "text": [
      "{'actual': ['Trading Panel stopped working Today at 14:00.'],\n",
      " 'date': ['2020-01-12T14:00:00'],\n",
      " 'expected': [],\n",
      " 'part of app': [],\n",
      " 'precondition': [],\n",
      " 'priority': []}\n"
     ]
    },
    {
     "data": {
      "text/html": [
       "<h5>Declared</h5>"
      ],
      "text/plain": [
       "<IPython.core.display.HTML object>"
      ]
     },
     "metadata": {},
     "output_type": "display_data"
    },
    {
     "name": "stdout",
     "output_type": "stream",
     "text": [
      "{'actual': \"the page wouldn't load\",\n",
      " 'exptected': '',\n",
      " 'importance': 'low',\n",
      " 'time': '11 jan at 14:00'}\n"
     ]
    },
    {
     "data": {
      "text/html": [
       "<h4>next</h4>"
      ],
      "text/plain": [
       "<IPython.core.display.HTML object>"
      ]
     },
     "metadata": {},
     "output_type": "display_data"
    },
    {
     "data": {
      "text/html": [
       "<p>\n",
       "   Hello!\n",
       "Yesterday I had some problems on the admin panel. I tried to create a new user.\n",
       "The app should create the user an return a success message but nothing happened. The \"create\" button was completely unresponsive.\n",
       "Can you fix it ASAP? It's very important. Thank you in advance. \n",
       "    </p>"
      ],
      "text/plain": [
       "<IPython.core.display.HTML object>"
      ]
     },
     "metadata": {},
     "output_type": "display_data"
    },
    {
     "data": {
      "text/html": [
       "<h5>Predicted</h5>"
      ],
      "text/plain": [
       "<IPython.core.display.HTML object>"
      ]
     },
     "metadata": {},
     "output_type": "display_data"
    },
    {
     "name": "stdout",
     "output_type": "stream",
     "text": [
      "{'actual': [],\n",
      " 'date': ['2020-01-11'],\n",
      " 'expected': ['\\nThe app should create the user an return a success message '],\n",
      " 'part of app': ['admin panel'],\n",
      " 'precondition': [],\n",
      " 'priority': []}\n"
     ]
    },
    {
     "data": {
      "text/html": [
       "<h5>Declared</h5>"
      ],
      "text/plain": [
       "<IPython.core.display.HTML object>"
      ]
     },
     "metadata": {},
     "output_type": "display_data"
    },
    {
     "name": "stdout",
     "output_type": "stream",
     "text": [
      "{'actual': 'nothing happened',\n",
      " 'exptected': 'create the user and return success message',\n",
      " 'importance': 'high',\n",
      " 'time': '10 jan at 14:00'}\n"
     ]
    },
    {
     "data": {
      "text/html": [
       "<h4>next</h4>"
      ],
      "text/plain": [
       "<IPython.core.display.HTML object>"
      ]
     },
     "metadata": {},
     "output_type": "display_data"
    },
    {
     "data": {
      "text/html": [
       "<p>\n",
       "    3 days ago I was looking at user page. I expected it to work as always and then it was covered in red errors.\n",
       "    </p>"
      ],
      "text/plain": [
       "<IPython.core.display.HTML object>"
      ]
     },
     "metadata": {},
     "output_type": "display_data"
    },
    {
     "data": {
      "text/html": [
       "<h5>Predicted</h5>"
      ],
      "text/plain": [
       "<IPython.core.display.HTML object>"
      ]
     },
     "metadata": {},
     "output_type": "display_data"
    },
    {
     "name": "stdout",
     "output_type": "stream",
     "text": [
      "{'actual': [' it was covered in red errors.'],\n",
      " 'date': ['2020-01-09'],\n",
      " 'expected': ['I expected it to work as always '],\n",
      " 'part of app': ['user page'],\n",
      " 'precondition': ['\\n    3 days ago I was looking at user page.'],\n",
      " 'priority': []}\n"
     ]
    },
    {
     "data": {
      "text/html": [
       "<h5>Declared</h5>"
      ],
      "text/plain": [
       "<IPython.core.display.HTML object>"
      ]
     },
     "metadata": {},
     "output_type": "display_data"
    },
    {
     "name": "stdout",
     "output_type": "stream",
     "text": [
      "{'time': '9 jan'}\n"
     ]
    }
   ],
   "source": [
    "import pprint\n",
    "\n",
    "for sample, expected  in samples.items():\n",
    "    \n",
    "    display(HTML(\"<h4>{}</h4>\".format(\"next\")))\n",
    "    display(HTML(\"<p>{}</p>\".format(sample)))\n",
    "    display(HTML(\"<h5>{}</h5>\".format(\"Predicted\")))\n",
    "    \n",
    "    sents = sent_tokenize(sample)\n",
    "    \n",
    "    pprint.pprint({\n",
    "        \"precondition\": extract_precondition(sents),\n",
    "        \"part of app\": extract_part_of_app(sents),\n",
    "        \"expected\": extract_expected(sents),\n",
    "        \"actual\": extract_actual(sents),\n",
    "        \"priority\": extract_priority(sents),\n",
    "        \"date\": extract_date(sents)\n",
    "    })\n",
    "    display(HTML(\"<h5>{}</h5>\".format(\"Declared\")))\n",
    "    pprint.pprint(expected)"
   ]
  },
  {
   "cell_type": "markdown",
   "metadata": {
    "Collapsed": "false"
   },
   "source": [
    "# Junkyard"
   ]
  },
  {
   "cell_type": "code",
   "execution_count": 9,
   "metadata": {
    "Collapsed": "false"
   },
   "outputs": [],
   "source": [
    "def print_ners(text:str):\n",
    "    d = nlp(text)\n",
    "    print(text)\n",
    "    print([(X.text, X.label_) for X in d.ents])\n",
    "    print(\"\")"
   ]
  },
  {
   "cell_type": "code",
   "execution_count": 10,
   "metadata": {
    "Collapsed": "false",
    "ExecuteTime": {
     "end_time": "2019-09-14T18:29:04.725413Z",
     "start_time": "2019-09-14T18:29:04.665152Z"
    }
   },
   "outputs": [
    {
     "name": "stdout",
     "output_type": "stream",
     "text": [
      "On yesterday at 5 pm i couldn't complete the transaction.  It was on user website. I expected transaction to look as always, but i saw message \"something went wrong\".  This issue is very important to us.\n",
      "[('yesterday', 'DATE'), ('5 pm', 'TIME')]\n",
      "\n",
      "I write to report an issue. Trading Panel stopped working Today at 14:00. User \"kazik\" was affected. The page wouldnt load, i was a little upset. Please fix it when you can. \n",
      "[('Trading Panel', 'ORG'), ('Today', 'DATE'), ('14:00', 'TIME')]\n",
      "\n",
      "\n",
      "   Hello!\n",
      "Yesterday I had some problems on the admin panel. I tried to create a new user.\n",
      "The app should create the user an return a success message but nothing happened. The \"create\" button was completely unresponsive.\n",
      "Can you fix it ASAP? It's very important. Thank you in advance. \n",
      "    \n",
      "[('Yesterday', 'DATE')]\n",
      "\n",
      "\n",
      "    3 days ago I was looking at user page. I expected it to work as always and then it was covered in red errors.\n",
      "    \n",
      "[('3 days ago', 'DATE')]\n",
      "\n"
     ]
    }
   ],
   "source": [
    "names = seq(samples.keys())\n",
    "\n",
    "names.for_each(lambda text: print_ners(text))"
   ]
  },
  {
   "cell_type": "code",
   "execution_count": 11,
   "metadata": {
    "Collapsed": "false"
   },
   "outputs": [],
   "source": [
    "txt = list(samples.keys())[0]"
   ]
  },
  {
   "cell_type": "code",
   "execution_count": 12,
   "metadata": {
    "Collapsed": "false"
   },
   "outputs": [
    {
     "data": {
      "text/plain": [
       "[On yesterday at 5 pm i couldn't complete the transaction.,\n",
       "  It was on user website.,\n",
       " I expected transaction to look as always, ,\n",
       "  i saw message \"something went wrong\".,\n",
       "  This issue is very important to us.]"
      ]
     },
     "execution_count": 12,
     "metadata": {},
     "output_type": "execute_result"
    }
   ],
   "source": [
    "sent_tokenize(txt)"
   ]
  },
  {
   "cell_type": "code",
   "execution_count": null,
   "metadata": {
    "Collapsed": "false"
   },
   "outputs": [],
   "source": []
  },
  {
   "cell_type": "code",
   "execution_count": 129,
   "metadata": {
    "Collapsed": "false"
   },
   "outputs": [
    {
     "data": {
      "text/plain": [
       "I expected transaction to look as always, but i saw message \"something went wrong\"."
      ]
     },
     "execution_count": 129,
     "metadata": {},
     "output_type": "execute_result"
    }
   ],
   "source": [
    "doc"
   ]
  },
  {
   "cell_type": "code",
   "execution_count": 123,
   "metadata": {
    "Collapsed": "false"
   },
   "outputs": [],
   "source": [
    "# for t in doc:\n",
    "#     print(t.dep_)\n",
    "from spacy import displacy\n",
    "\n",
    "import en_core_web_sm\n",
    "nlp_sm = en_core_web_sm.load()\n"
   ]
  },
  {
   "cell_type": "code",
   "execution_count": 27,
   "metadata": {
    "Collapsed": "false"
   },
   "outputs": [
    {
     "data": {
      "text/plain": [
       "I thought i would see correct response, then it failed"
      ]
     },
     "execution_count": 27,
     "metadata": {},
     "output_type": "execute_result"
    }
   ],
   "source": [
    "#doc = nlp_sm(sent_tokenize(txt)[3])\n",
    "doc  = nlp(\"I thought i would see correct response, then it failed\")\n",
    "doc\n",
    "#displacy.serve(doc, style=\"dep\",minify=True)"
   ]
  },
  {
   "cell_type": "code",
   "execution_count": 28,
   "metadata": {
    "Collapsed": "false"
   },
   "outputs": [
    {
     "name": "stdout",
     "output_type": "stream",
     "text": [
      "I\n",
      "thought\n",
      "i\n",
      "would\n",
      "see\n",
      "correct\n",
      "response\n",
      ",\n",
      "then\n",
      "it\n",
      "failed\n"
     ]
    }
   ],
   "source": [
    "for d in doc:\n",
    "    print(d)"
   ]
  },
  {
   "cell_type": "code",
   "execution_count": 17,
   "metadata": {
    "Collapsed": "false"
   },
   "outputs": [
    {
     "data": {
      "text/plain": [
       "'3 day ago -pron- be look at user page . -pron- be in bathroom . -pron- enter the page ,   -pron- expect -pron- to work as always and then -pron- be cover in red error .'"
      ]
     },
     "execution_count": 17,
     "metadata": {},
     "output_type": "execute_result"
    }
   ],
   "source": [
    "dsklfnsldd= \"3 days ago he was looking at user page. I was in bathroom. He entered the page,  I expected it to work as always and then it was covered in red errors.\"\n",
    "\" \".join(seq(nlp(dsklfnsldd)).map(lambda x: x.lemma_).to_list()).lower()"
   ]
  },
  {
   "cell_type": "code",
   "execution_count": 20,
   "metadata": {
    "Collapsed": "false"
   },
   "outputs": [
    {
     "data": {
      "text/plain": [
       "['-pron- be inenterbe look']"
      ]
     },
     "execution_count": 20,
     "metadata": {},
     "output_type": "execute_result"
    }
   ],
   "source": [
    "prec_phrases"
   ]
  },
  {
   "cell_type": "code",
   "execution_count": 26,
   "metadata": {
    "Collapsed": "false"
   },
   "outputs": [],
   "source": [
    "clusters = {\n",
    "    \"user no load\":\n",
    "    {\n",
    "        \"user page does not load correctly\",\n",
    "        \"user panel fails to load\",\n",
    "        \"loading fails on user app\",\n",
    "        \"user app fails to load\",\n",
    "    },\n",
    "    \n",
    "    \"buttons are not aligned\":\n",
    "    {\n",
    "        \"user page - buttons not aligned\",\n",
    "        \"user sees that buttons are missaligned\",\n",
    "        \"buttons are not in line\",\n",
    "    },\n",
    "    \"admin blank\":\n",
    "    {\n",
    "        \"admin page doesnt' load\",\n",
    "        \"amin panel is empty\",\n",
    "        \"amin panel is blank\",\n",
    "        \"admin cannot login\",\n",
    "    }\n",
    "}"
   ]
  },
  {
   "cell_type": "code",
   "execution_count": 27,
   "metadata": {
    "Collapsed": "false"
   },
   "outputs": [],
   "source": [
    "all_things = seq(clusters.items()).flat_map(lambda tag_entries: seq(tag_entries[1]).map(lambda e: (e,tag_entries[0])) )"
   ]
  },
  {
   "cell_type": "code",
   "execution_count": 29,
   "metadata": {
    "Collapsed": "false"
   },
   "outputs": [],
   "source": [
    "all_things = all_things.map(lambda s_tag: (nlp(s_tag[0]),s_tag[1]))"
   ]
  },
  {
   "cell_type": "code",
   "execution_count": 33,
   "metadata": {
    "Collapsed": "false"
   },
   "outputs": [
    {
     "ename": "ModuleNotFoundError",
     "evalue": "No module named 'pandas'",
     "output_type": "error",
     "traceback": [
      "\u001b[0;31m---------------------------------------------------------------------------\u001b[0m",
      "\u001b[0;31mModuleNotFoundError\u001b[0m                       Traceback (most recent call last)",
      "\u001b[0;32m<ipython-input-33-7dd3504c366f>\u001b[0m in \u001b[0;36m<module>\u001b[0;34m\u001b[0m\n\u001b[0;32m----> 1\u001b[0;31m \u001b[0;32mimport\u001b[0m \u001b[0mpandas\u001b[0m \u001b[0;32mas\u001b[0m \u001b[0mpd\u001b[0m\u001b[0;34m\u001b[0m\u001b[0;34m\u001b[0m\u001b[0m\n\u001b[0m",
      "\u001b[0;31mModuleNotFoundError\u001b[0m: No module named 'pandas'"
     ]
    }
   ],
   "source": [
    "import pandas as pd"
   ]
  },
  {
   "cell_type": "code",
   "execution_count": 51,
   "metadata": {
    "Collapsed": "false"
   },
   "outputs": [],
   "source": [
    "from random import randint\n",
    "def randId(prefix):\n",
    "    return prefix + str(randint(0,100))"
   ]
  },
  {
   "cell_type": "code",
   "execution_count": 54,
   "metadata": {
    "Collapsed": "false"
   },
   "outputs": [],
   "source": [
    "from collections import namedtuple\n",
    "Issue =  namedtuple(\"Issue\", [\"title\", \"id\"])\n",
    "all_things = seq(clusters.items()).flat_map(lambda tag_entries: seq(tag_entries[1]).map(lambda e: Issue(title = nlp(e),id= randId(tag_entries[0])) ))\n",
    "inQuestion =  Issue(title=nlp(\"amin panel is blank\"), id= \"elo\")\n",
    "ala = all_things.map(lambda x : (x,x.title.similarity(inQuestion.title)))\n",
    "ala.sorted(lambda x : x[1],reverse=True).take_while(lambda tup: tup[1] > 0.85)"
   ]
  },
  {
   "cell_type": "code",
   "execution_count": 56,
   "metadata": {
    "Collapsed": "false"
   },
   "outputs": [],
   "source": []
  },
  {
   "cell_type": "code",
   "execution_count": 57,
   "metadata": {
    "Collapsed": "false"
   },
   "outputs": [],
   "source": []
  },
  {
   "cell_type": "code",
   "execution_count": 65,
   "metadata": {
    "Collapsed": "false"
   },
   "outputs": [
    {
     "data": {
      "text/html": [
       "<table>\n",
       "<tbody>\n",
       "<tr><td>Issue(title=amin panel is blank, id='admin blank39')</td><td style=\"text-align: right;\">1      </td></tr>\n",
       "<tr><td>Issue(title=amin panel is empty, id='admin blank88')</td><td style=\"text-align: right;\">0.89988</td></tr>\n",
       "</tbody>\n",
       "</table>"
      ],
      "text/plain": [
       "[(Issue(title=amin panel is blank, id='admin blank39'), 1.0), (Issue(title=amin panel is empty, id='admin blank88'), 0.8998798206157094)]"
      ]
     },
     "execution_count": 65,
     "metadata": {},
     "output_type": "execute_result"
    }
   ],
   "source": []
  },
  {
   "cell_type": "code",
   "execution_count": 43,
   "metadata": {
    "Collapsed": "false"
   },
   "outputs": [
    {
     "data": {
      "text/html": [
       "<div>\n",
       "<style scoped>\n",
       "    .dataframe tbody tr th:only-of-type {\n",
       "        vertical-align: middle;\n",
       "    }\n",
       "\n",
       "    .dataframe tbody tr th {\n",
       "        vertical-align: top;\n",
       "    }\n",
       "\n",
       "    .dataframe thead th {\n",
       "        text-align: right;\n",
       "    }\n",
       "</style>\n",
       "<table border=\"1\" class=\"dataframe\">\n",
       "  <thead>\n",
       "    <tr style=\"text-align: right;\">\n",
       "      <th></th>\n",
       "      <th>sen1</th>\n",
       "      <th>tok1</th>\n",
       "      <th>sen2</th>\n",
       "      <th>tok2</th>\n",
       "      <th>similarity</th>\n",
       "    </tr>\n",
       "  </thead>\n",
       "  <tbody>\n",
       "    <tr>\n",
       "      <th>35</th>\n",
       "      <td>(user, app, fails, to, load)</td>\n",
       "      <td>user no load</td>\n",
       "      <td>(loading, fails, on, user, app)</td>\n",
       "      <td>user no load</td>\n",
       "      <td>0.942200</td>\n",
       "    </tr>\n",
       "    <tr>\n",
       "      <th>25</th>\n",
       "      <td>(loading, fails, on, user, app)</td>\n",
       "      <td>user no load</td>\n",
       "      <td>(user, app, fails, to, load)</td>\n",
       "      <td>user no load</td>\n",
       "      <td>0.942200</td>\n",
       "    </tr>\n",
       "    <tr>\n",
       "      <th>34</th>\n",
       "      <td>(user, app, fails, to, load)</td>\n",
       "      <td>user no load</td>\n",
       "      <td>(user, panel, fails, to, load)</td>\n",
       "      <td>user no load</td>\n",
       "      <td>0.915259</td>\n",
       "    </tr>\n",
       "    <tr>\n",
       "      <th>14</th>\n",
       "      <td>(user, panel, fails, to, load)</td>\n",
       "      <td>user no load</td>\n",
       "      <td>(user, app, fails, to, load)</td>\n",
       "      <td>user no load</td>\n",
       "      <td>0.915259</td>\n",
       "    </tr>\n",
       "    <tr>\n",
       "      <th>97</th>\n",
       "      <td>(amin, panel, is, blank)</td>\n",
       "      <td>admin blank</td>\n",
       "      <td>(amin, panel, is, empty)</td>\n",
       "      <td>admin blank</td>\n",
       "      <td>0.899880</td>\n",
       "    </tr>\n",
       "    <tr>\n",
       "      <th>107</th>\n",
       "      <td>(amin, panel, is, empty)</td>\n",
       "      <td>admin blank</td>\n",
       "      <td>(amin, panel, is, blank)</td>\n",
       "      <td>admin blank</td>\n",
       "      <td>0.899880</td>\n",
       "    </tr>\n",
       "    <tr>\n",
       "      <th>33</th>\n",
       "      <td>(user, app, fails, to, load)</td>\n",
       "      <td>user no load</td>\n",
       "      <td>(user, page, does, not, load, correctly)</td>\n",
       "      <td>user no load</td>\n",
       "      <td>0.881261</td>\n",
       "    </tr>\n",
       "    <tr>\n",
       "      <th>3</th>\n",
       "      <td>(user, page, does, not, load, correctly)</td>\n",
       "      <td>user no load</td>\n",
       "      <td>(user, app, fails, to, load)</td>\n",
       "      <td>user no load</td>\n",
       "      <td>0.881261</td>\n",
       "    </tr>\n",
       "    <tr>\n",
       "      <th>11</th>\n",
       "      <td>(user, panel, fails, to, load)</td>\n",
       "      <td>user no load</td>\n",
       "      <td>(user, page, does, not, load, correctly)</td>\n",
       "      <td>user no load</td>\n",
       "      <td>0.874470</td>\n",
       "    </tr>\n",
       "    <tr>\n",
       "      <th>1</th>\n",
       "      <td>(user, page, does, not, load, correctly)</td>\n",
       "      <td>user no load</td>\n",
       "      <td>(user, panel, fails, to, load)</td>\n",
       "      <td>user no load</td>\n",
       "      <td>0.874470</td>\n",
       "    </tr>\n",
       "  </tbody>\n",
       "</table>\n",
       "</div>"
      ],
      "text/plain": [
       "                                         sen1          tok1  \\\n",
       "35               (user, app, fails, to, load)  user no load   \n",
       "25            (loading, fails, on, user, app)  user no load   \n",
       "34               (user, app, fails, to, load)  user no load   \n",
       "14             (user, panel, fails, to, load)  user no load   \n",
       "97                   (amin, panel, is, blank)   admin blank   \n",
       "107                  (amin, panel, is, empty)   admin blank   \n",
       "33               (user, app, fails, to, load)  user no load   \n",
       "3    (user, page, does, not, load, correctly)  user no load   \n",
       "11             (user, panel, fails, to, load)  user no load   \n",
       "1    (user, page, does, not, load, correctly)  user no load   \n",
       "\n",
       "                                         sen2          tok2  similarity  \n",
       "35            (loading, fails, on, user, app)  user no load    0.942200  \n",
       "25               (user, app, fails, to, load)  user no load    0.942200  \n",
       "34             (user, panel, fails, to, load)  user no load    0.915259  \n",
       "14               (user, app, fails, to, load)  user no load    0.915259  \n",
       "97                   (amin, panel, is, empty)   admin blank    0.899880  \n",
       "107                  (amin, panel, is, blank)   admin blank    0.899880  \n",
       "33   (user, page, does, not, load, correctly)  user no load    0.881261  \n",
       "3                (user, app, fails, to, load)  user no load    0.881261  \n",
       "11   (user, page, does, not, load, correctly)  user no load    0.874470  \n",
       "1              (user, panel, fails, to, load)  user no load    0.874470  "
      ]
     },
     "execution_count": 43,
     "metadata": {},
     "output_type": "execute_result"
    }
   ],
   "source": [
    "ola = alas[alas.similarity < 1].dropna().sort_values('similarity',ascending=False)\n",
    "ola[ola.similarity > 0.86]"
   ]
  },
  {
   "cell_type": "code",
   "execution_count": 19,
   "metadata": {
    "Collapsed": "false"
   },
   "outputs": [],
   "source": [
    "def _tab_entry(a,b):\n",
    "    return (a.__repr__(),b.__repr__(), a.similarity(b))"
   ]
  },
  {
   "cell_type": "code",
   "execution_count": null,
   "metadata": {
    "Collapsed": "false"
   },
   "outputs": [],
   "source": []
  },
  {
   "cell_type": "code",
   "execution_count": 15,
   "metadata": {
    "Collapsed": "false"
   },
   "outputs": [
    {
     "data": {
      "text/plain": [
       "0.9332730827444652"
      ]
     },
     "execution_count": 15,
     "metadata": {},
     "output_type": "execute_result"
    }
   ],
   "source": [
    "d1.similarity(d2)\n"
   ]
  },
  {
   "cell_type": "code",
   "execution_count": 16,
   "metadata": {
    "Collapsed": "false"
   },
   "outputs": [
    {
     "data": {
      "text/plain": [
       "0.7694986442251492"
      ]
     },
     "execution_count": 16,
     "metadata": {},
     "output_type": "execute_result"
    }
   ],
   "source": [
    "d1.similarity(nlp(\"page does not load\"))"
   ]
  },
  {
   "cell_type": "code",
   "execution_count": null,
   "metadata": {
    "Collapsed": "false"
   },
   "outputs": [],
   "source": []
  }
 ],
 "metadata": {
  "kernelspec": {
   "display_name": "bitehack",
   "language": "python",
   "name": "bitehack"
  },
  "language_info": {
   "codemirror_mode": {
    "name": "ipython",
    "version": 3
   },
   "file_extension": ".py",
   "mimetype": "text/x-python",
   "name": "python",
   "nbconvert_exporter": "python",
   "pygments_lexer": "ipython3",
   "version": "3.7.4"
  }
 },
 "nbformat": 4,
 "nbformat_minor": 4
}
